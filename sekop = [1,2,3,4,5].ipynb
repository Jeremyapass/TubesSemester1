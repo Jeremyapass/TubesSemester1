sekop = [1,2,3,4,5]
tup1 = (1,2, sekop, 3)
print(tup1)